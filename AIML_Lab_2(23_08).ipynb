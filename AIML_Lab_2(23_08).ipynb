{
  "nbformat": 4,
  "nbformat_minor": 0,
  "metadata": {
    "colab": {
      "provenance": [],
      "authorship_tag": "ABX9TyOFC2/qt8oU/SharTHZpXoG",
      "include_colab_link": true
    },
    "kernelspec": {
      "name": "python3",
      "display_name": "Python 3"
    },
    "language_info": {
      "name": "python"
    }
  },
  "cells": [
    {
      "cell_type": "markdown",
      "metadata": {
        "id": "view-in-github",
        "colab_type": "text"
      },
      "source": [
        "<a href=\"https://colab.research.google.com/github/2303A52350/AIML.2350/blob/main/AIML_Lab_2(23_08).ipynb\" target=\"_parent\"><img src=\"https://colab.research.google.com/assets/colab-badge.svg\" alt=\"Open In Colab\"/></a>"
      ]
    },
    {
      "cell_type": "code",
      "execution_count": null,
      "metadata": {
        "id": "XTQc7GgB4CSd"
      },
      "outputs": [],
      "source": [
        "from copy import deepcopy\n",
        "import numpy as np\n",
        "import time"
      ]
    },
    {
      "cell_type": "code",
      "source": [
        "def bestSolution(state):\n",
        "  bestsol = np.array({}, int).reshape(-1,9)\n",
        "  count = len(state) -1\n",
        "  while count != -1:\n",
        "   bestsol = np.insert(bestsol,0, state[count]['puzzle'],0)\n",
        "  count = state[count]['parent']\n",
        "  return bestsol.reshape(-1,3,3)"
      ],
      "metadata": {
        "id": "0imYDkcs4PjP"
      },
      "execution_count": null,
      "outputs": []
    },
    {
      "cell_type": "code",
      "source": [
        "def all(checkarray):\n",
        "  set = []\n",
        "  for it in set:\n",
        "    for checkarray in it:\n",
        "      return 1\n",
        "    else:\n",
        "        return 0"
      ],
      "metadata": {
        "id": "sD7vjvR75hm0"
      },
      "execution_count": null,
      "outputs": []
    },
    {
      "cell_type": "code",
      "source": [
        "def misplaced_titles(puzzle, goal):\n",
        "  mscount = np.sum(puzzle !=goal) -1\n",
        "  return mscount if mscount > 0 else 0\n"
      ],
      "metadata": {
        "id": "eEGahSUA6G0l"
      },
      "execution_count": null,
      "outputs": []
    },
    {
      "cell_type": "code",
      "source": [
        "def coordinates(puzzle):\n",
        "  pos = np.array(range(9))\n",
        "  for p, q in enumerate(puzzle):\n",
        "    pos[q] = p\n",
        "    return pos"
      ],
      "metadata": {
        "id": "QHTTfOR37Mw5"
      },
      "execution_count": null,
      "outputs": []
    },
    {
      "cell_type": "code",
      "source": [
        "def evaluate_misplaced(puzzle,goal):\n",
        "  steps=np.array([\n",
        "      ('up',[0,1,2],-3),\n",
        "      ('down',[6,7,8],3),\n",
        "      ('left',[0,3,6],-1),\n",
        "      ('right',[2,5,8],1),\n",
        " ],dtype=[('move',str,1),('position',list),('head',int)])"
      ],
      "metadata": {
        "id": "PkLDi3Ak7sqT"
      },
      "execution_count": null,
      "outputs": []
    },
    {
      "cell_type": "code",
      "source": [
        "dtstate=[('puzzle',list),('parent',int),('gn',int),('hn',int)]\n",
        "costg=co ordinates(goal)\n",
        "parent=-1\n",
        "gn=0\n",
        "hn=misplaced_titles(coordinates(puzzle),costg)\n",
        "state = np.array([(puzzle,parent,gn,hn)],dtstate)\n",
        "dtpriority=[('position',int),('fn',int)]\n",
        "priority = np.array([(0,hn)],dtpriority)\n",
        "while True:\n",
        "  priority = np.sort(priority, kind='mergesort', order=['fn','position'])\n",
        "  position, fn = priority[0]\n",
        "  priority = np.delete(priority, 0, 0)\n",
        "  puzzle, parent, gn, hn = state[position]\n",
        "  puzzle = np.array(puzzle)\n",
        "  blank = int(np.where(puzzle ==0)[0])\n",
        "  gn = gn + 1\n",
        "  c = 1\n",
        "  start_time = time.time()\n",
        "  for s in steps:\n",
        "      c = c + 1\n",
        "      if blank not in s['position']:\n",
        "        openstates = deepcopy(puzzle)\n",
        "        openstates[blank], openstates[blank + s['head']] = openstates[blank + s['head']],openstates[blank]\n",
        "        if not (np.all(list(state['puzzle']) == openstates, 1)).any():\n",
        "          end_time = time.time()\n",
        "          if(end_time - start_time) > 2:\n",
        "            print(\"The puzzle is unsolveable\\n\")\n",
        "            break\n",
        "            hn = misplaced_titles(coordinates(openstates), costg)\n",
        "            q = np.array([(openstates, position, gn, hn)], dtstate)\n",
        "            state = np.append(state,q,0)\n",
        "            fn = gn + hn\n",
        "            q = np.array([(len(state) - 1, fn)], dtpriority)\n",
        "            priority = np.append(priority, q, 0)\n",
        "            if np.array_equal(openstates, goal):\n",
        "              print('The 8-puzzle is solvable\\n')\n",
        "              return state, len(priority)\n",
        "\n"
      ],
      "metadata": {
        "colab": {
          "base_uri": "https://localhost:8080/",
          "height": 109
        },
        "id": "CtrTZwjN9IWj",
        "outputId": "743a7e2e-832a-4f2c-bcc3-d40a930b2efc"
      },
      "execution_count": null,
      "outputs": [
        {
          "output_type": "error",
          "ename": "SyntaxError",
          "evalue": "invalid syntax (<ipython-input-3-3ee5e32e3e40>, line 2)",
          "traceback": [
            "\u001b[0;36m  File \u001b[0;32m\"<ipython-input-3-3ee5e32e3e40>\"\u001b[0;36m, line \u001b[0;32m2\u001b[0m\n\u001b[0;31m    costg=co ordinates(goal)\u001b[0m\n\u001b[0m             ^\u001b[0m\n\u001b[0;31mSyntaxError\u001b[0m\u001b[0;31m:\u001b[0m invalid syntax\n"
          ]
        }
      ]
    }
  ]
}